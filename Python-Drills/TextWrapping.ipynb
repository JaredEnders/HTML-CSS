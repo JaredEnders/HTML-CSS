{
 "cells": [
  {
   "cell_type": "code",
   "execution_count": 11,
   "metadata": {},
   "outputs": [
    {
     "name": "stdout",
     "output_type": "stream",
     "text": [
      "abcdefghijklmn\n"
     ]
    }
   ],
   "source": [
    "# Starting Code / Variables\n",
    "N = 4\n",
    "test_string = \"abcdefghijklmn\"\n",
    "print(test_string)"
   ]
  },
  {
   "cell_type": "code",
   "execution_count": 12,
   "metadata": {},
   "outputs": [
    {
     "name": "stdout",
     "output_type": "stream",
     "text": [
      "abcd\n",
      "efgh\n",
      "ijkl\n",
      "mn\n"
     ]
    }
   ],
   "source": [
    "# Import dependencies\n",
    "import textwrap\n",
    "# Code to wrap our text for every \"N\" characters\n",
    "test_string = \"abcdefghijklmn\"\n",
    "wrapper = textwrap.TextWrapper(width=4)\n",
    "newstring = wrapper.wrap(text=test_string)\n",
    "\n",
    "for letters in newstring:\n",
    "    print(letters)"
   ]
  }
 ],
 "metadata": {
  "kernelspec": {
   "display_name": "Python 3",
   "language": "python",
   "name": "python3"
  },
  "language_info": {
   "codemirror_mode": {
    "name": "ipython",
    "version": 3
   },
   "file_extension": ".py",
   "mimetype": "text/x-python",
   "name": "python",
   "nbconvert_exporter": "python",
   "pygments_lexer": "ipython3",
   "version": "3.8.3"
  }
 },
 "nbformat": 4,
 "nbformat_minor": 4
}
