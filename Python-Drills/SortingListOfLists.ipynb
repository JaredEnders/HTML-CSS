{
 "cells": [
  {
   "cell_type": "code",
   "execution_count": 5,
   "metadata": {},
   "outputs": [
    {
     "name": "stdout",
     "output_type": "stream",
     "text": [
      "[['Malcolm', 80], ['Zoe', 85], ['Kaylee', 99], ['Simon', 99], ['Wash', 79]]\n"
     ]
    }
   ],
   "source": [
    "# Starting List\n",
    "grades = [[\"Malcolm\", 80], [\"Zoe\", 85], [\"Kaylee\", 99], [\"Simon\", 99], [\"Wash\", 79]]\n",
    "print(grades)"
   ]
  },
  {
   "cell_type": "code",
   "execution_count": 6,
   "metadata": {},
   "outputs": [
    {
     "name": "stdout",
     "output_type": "stream",
     "text": [
      "[['Kaylee', 99], ['Simon', 99], ['Zoe', 85], ['Malcolm', 80], ['Wash', 79]]\n"
     ]
    }
   ],
   "source": [
    "# Code to sort the list of lists\n",
    "def Sort(grades):\n",
    "    grades.sort(key=lambda x: x[1], reverse=True)\n",
    "    return grades\n",
    "\n",
    "grades = [[\"Malcolm\", 80], [\"Zoe\", 85], [\"Kaylee\", 99], [\"Simon\", 99], [\"Wash\", 79]]\n",
    "print(Sort(grades))"
   ]
  },
  {
   "cell_type": "code",
   "execution_count": null,
   "metadata": {},
   "outputs": [],
   "source": []
  }
 ],
 "metadata": {
  "kernelspec": {
   "display_name": "Python 3",
   "language": "python",
   "name": "python3"
  },
  "language_info": {
   "codemirror_mode": {
    "name": "ipython",
    "version": 3
   },
   "file_extension": ".py",
   "mimetype": "text/x-python",
   "name": "python",
   "nbconvert_exporter": "python",
   "pygments_lexer": "ipython3",
   "version": "3.8.3"
  }
 },
 "nbformat": 4,
 "nbformat_minor": 4
}
